{
 "cells": [
  {
   "cell_type": "markdown",
   "metadata": {},
   "source": [
    "# Avellaneda and Stoikov model calibration"
   ]
  },
  {
   "cell_type": "markdown",
   "metadata": {},
   "source": [
    "AvellanedaStoikov parameter calibration for gamma ray HFT trading bot"
   ]
  },
  {
   "cell_type": "code",
   "execution_count": 8,
   "metadata": {},
   "outputs": [],
   "source": [
    "import numpy as np\n",
    "import lightgbm as lgb\n",
    "import matplotlib.pyplot as plt\n",
    "import pandas as pd\n",
    "import seaborn as sns\n",
    "import sklearn\n",
    "import math"
   ]
  },
  {
   "cell_type": "markdown",
   "metadata": {},
   "source": [
    "## Introduction"
   ]
  },
  {
   "cell_type": "markdown",
   "metadata": {},
   "source": [
    "Gamma ray HFT trading bot uses the finite horizon Avellaneda and Stoikov model with the following formulation:"
   ]
  },
  {
   "cell_type": "markdown",
   "metadata": {},
   "source": [
    "**assmue order arrial rate**\n",
    "$$\\lambda^a(\\delta)=\\lambda^b(\\delta)=Ae^{-k\\delta}$$"
   ]
  },
  {
   "cell_type": "markdown",
   "metadata": {},
   "source": [
    "**reservation price**\n",
    "\n",
    "$$r(s,t)=s-q\\gamma\\sigma^2(T-t)$$\n",
    "\n",
    "**spread**\n",
    "$$\\delta=\\delta^a+\\delta^b=\\gamma\\sigma^2(T-t)+\\frac{2}{\\gamma}\\ln(1+\\frac{\\gamma}{k})$$\n",
    "\n",
    "**bid price**\n",
    "$$r^b(s,q,t)=r(s,t)-\\frac{1}{2}\\delta$$\n",
    "\n",
    "**ask price**\n",
    "$$r^a(s,q,t)=r(s,t)+\\frac{1}{2}\\delta$$"
   ]
  },
  {
   "cell_type": "markdown",
   "metadata": {},
   "source": [
    "**The following contents in this notebook will calibrate the following parameters**:\n",
    "\n",
    "1. sigma\n",
    "2. k\n",
    "3. gamma"
   ]
  },
  {
   "cell_type": "markdown",
   "metadata": {},
   "source": [
    "For more information you can refer to the original [paper](https://www.researchgate.net/publication/24086205_High_Frequency_Trading_in_a_Limit_Order_Book). It is worth noting that calibration of the above parameters are non-trivial, they are active research fields with various on going studies. This notebook only provide one (simple) method for calibrating the model."
   ]
  },
  {
   "cell_type": "markdown",
   "metadata": {},
   "source": [
    "## Playground"
   ]
  },
  {
   "cell_type": "markdown",
   "metadata": {},
   "source": [
    "This is a implementation of the model in python, you can plug in different parameters and see the outputs of the model to get a tangible feeling of the model"
   ]
  },
  {
   "cell_type": "code",
   "execution_count": 10,
   "metadata": {},
   "outputs": [
    {
     "name": "stdout",
     "output_type": "stream",
     "text": [
      "ask quote:  9506.220895871751\n",
      "bid quote 9493.779104128249\n"
     ]
    }
   ],
   "source": [
    "T = 1.0\n",
    "t = 0.0\n",
    "dt = T - t\n",
    "gamma = 0.1\n",
    "sigma = 0.02\n",
    "k = 0.1159\n",
    "q = 0\n",
    "s = 9500\n",
    "\n",
    "r = s - q * gamma * sigma**2 * dt\n",
    "\n",
    "# Reserve spread\n",
    "r_spread = gamma * sigma**2 * dt +2 / gamma * math.log(1+gamma/k)    \n",
    "\n",
    "# optimal quotes\n",
    "ra = r + r_spread/2\n",
    "rb = r - r_spread/2\n",
    "print(\"ask quote: \", ra)\n",
    "print(\"bid quote\", rb)"
   ]
  },
  {
   "cell_type": "markdown",
   "metadata": {},
   "source": [
    "## Trading data"
   ]
  },
  {
   "cell_type": "markdown",
   "metadata": {},
   "source": [
    "For illustration purpose, we will only one day's XBTUSD quoting data and trading data. In practise you should use a much longer sample of historical prices and trades. You can get all historical data here: https://public.bitmex.com/"
   ]
  },
  {
   "cell_type": "code",
   "execution_count": 2,
   "metadata": {},
   "outputs": [],
   "source": [
    "quotes = pd.read_csv(\"./data/quotes.csv\")\n",
    "trades = pd.read_csv(\"./data/trades.csv\")\n",
    "quotes.loc[:, 'timestamp'] = pd.to_datetime(quotes.timestamp, format=\"%Y-%m-%dD%H:%M:%S.%f\")\n",
    "trades.loc[:, 'timestamp'] = pd.to_datetime(trades.timestamp, format=\"%Y-%m-%dD%H:%M:%S.%f\")"
   ]
  },
  {
   "cell_type": "code",
   "execution_count": 3,
   "metadata": {},
   "outputs": [],
   "source": [
    "xbt_quotes = quotes[quotes['symbol'] == 'XBTUSD']\n",
    "xbt_trades = trades[trades['symbol'] == 'XBTUSD']"
   ]
  },
  {
   "cell_type": "code",
   "execution_count": 4,
   "metadata": {},
   "outputs": [
    {
     "name": "stderr",
     "output_type": "stream",
     "text": [
      "/Users/Ted/miniconda3/lib/python3.7/site-packages/pandas/core/indexing.py:845: SettingWithCopyWarning: \n",
      "A value is trying to be set on a copy of a slice from a DataFrame.\n",
      "Try using .loc[row_indexer,col_indexer] = value instead\n",
      "\n",
      "See the caveats in the documentation: https://pandas.pydata.org/pandas-docs/stable/user_guide/indexing.html#returning-a-view-versus-a-copy\n",
      "  self.obj[key] = _infer_fill_value(value)\n",
      "/Users/Ted/miniconda3/lib/python3.7/site-packages/pandas/core/indexing.py:966: SettingWithCopyWarning: \n",
      "A value is trying to be set on a copy of a slice from a DataFrame.\n",
      "Try using .loc[row_indexer,col_indexer] = value instead\n",
      "\n",
      "See the caveats in the documentation: https://pandas.pydata.org/pandas-docs/stable/user_guide/indexing.html#returning-a-view-versus-a-copy\n",
      "  self.obj[item] = s\n"
     ]
    }
   ],
   "source": [
    "# calculate mid price by averaging best bid and best ask\n",
    "xbt_quotes.loc[:, 'midPrice'] = (xbt_quotes.bidPrice + xbt_quotes.askPrice) / 2"
   ]
  },
  {
   "cell_type": "code",
   "execution_count": 5,
   "metadata": {},
   "outputs": [
    {
     "data": {
      "text/plain": [
       "[<matplotlib.lines.Line2D at 0x7fbb91553a10>]"
      ]
     },
     "execution_count": 5,
     "metadata": {},
     "output_type": "execute_result"
    },
    {
     "data": {
      "image/png": "[encoded data removed]",
      "text/plain": [
       "<Figure size 432x288 with 1 Axes>"
      ]
     },
     "metadata": {
      "needs_background": "light"
     },
     "output_type": "display_data"
    }
   ],
   "source": [
    "# reset the index to timestamp and plot the price change for the day\n",
    "Xt = xbt_quotes.set_index('timestamp').midPrice\n",
    "plt.plot(Xt)"
   ]
  },
  {
   "cell_type": "markdown",
   "metadata": {},
   "source": [
    "## Parameter estimation: sigma"
   ]
  },
  {
   "cell_type": "markdown",
   "metadata": {},
   "source": [
    "In this chapter we calibrate the model parameter sigma, which is measures the volitility of an assumed brownian motion. We use the first solution proposed here:\n",
    "https://alexioannides.com/2019/01/18/stochastic-process-calibration-using-bayesian-inference-probabilistic-programs/"
   ]
  },
  {
   "cell_type": "code",
   "execution_count": 11,
   "metadata": {},
   "outputs": [
    {
     "data": {
      "text/plain": [
       "[<matplotlib.lines.Line2D at 0x7fbba5ada510>]"
      ]
     },
     "execution_count": 11,
     "metadata": {},
     "output_type": "execute_result"
    },
    {
     "data": {
      "image/png": "[encoded data removed]",
      "text/plain": [
       "<Figure size 432x288 with 1 Axes>"
      ]
     },
     "metadata": {
      "needs_background": "light"
     },
     "output_type": "display_data"
    }
   ],
   "source": [
    "# resample prices with 1 second fixed interval\n",
    "resample = Xt.resample('1S').last().bfill()\n",
    "plt.plot(resample)"
   ]
  },
  {
   "cell_type": "code",
   "execution_count": 12,
   "metadata": {},
   "outputs": [
    {
     "data": {
      "text/plain": [
       "<matplotlib.axes._subplots.AxesSubplot at 0x7fbb91227d10>"
      ]
     },
     "execution_count": 12,
     "metadata": {},
     "output_type": "execute_result"
    },
    {
     "data": {
      "image/png": "[encoded data removed]",
      "text/plain": [
       "<Figure size 432x288 with 1 Axes>"
      ]
     },
     "metadata": {
      "needs_background": "light"
     },
     "output_type": "display_data"
    }
   ],
   "source": [
    "log_norm = np.log(resample).diff(1).dropna()\n",
    "sns.distplot(log_norm)"
   ]
  },
  {
   "cell_type": "code",
   "execution_count": 13,
   "metadata": {},
   "outputs": [
    {
     "name": "stdout",
     "output_type": "stream",
     "text": [
      "0.020185781716491456\n"
     ]
    }
   ],
   "source": [
    "# calculate deviation\n",
    "sigma = log_norm.std() * np.sqrt(3600*24)\n",
    "print(sigma)"
   ]
  },
  {
   "cell_type": "markdown",
   "metadata": {},
   "source": [
    "## Parameter esitmation: k"
   ]
  },
  {
   "cell_type": "markdown",
   "metadata": {},
   "source": [
    "Parameter k measures the probability of an order being executed at a given tick, here will estimate k by counting trades in **n** samples with each sample being a 10 seconds time period. For more information you can read Joaquin FERNANDEZ TAPIA's PhD thesis: \n",
    "[Modeling, optimization and estimation for the on-line control of trading algorithms in limit-order markets](https://www.researchgate.net/publication/284900784_Modeling_optimization_and_estimation_for_the_on-line_control_of_trading_algorithms_in_limit-order_markets) Chapter 4"
   ]
  },
  {
   "cell_type": "markdown",
   "metadata": {},
   "source": [
    "![captured liquidity](./footage/captured_liquidity.png)"
   ]
  },
  {
   "cell_type": "markdown",
   "metadata": {},
   "source": [
    "### Average volume quantity"
   ]
  },
  {
   "cell_type": "markdown",
   "metadata": {},
   "source": [
    "We will find the average marketable order size"
   ]
  },
  {
   "cell_type": "code",
   "execution_count": 14,
   "metadata": {},
   "outputs": [
    {
     "data": {
      "text/plain": [
       "count    3.252920e+05\n",
       "mean     4.417609e+03\n",
       "std      1.765609e+04\n",
       "min      2.600000e+01\n",
       "25%      9.700000e+01\n",
       "50%      5.000000e+02\n",
       "75%      2.500000e+03\n",
       "max      1.680485e+06\n",
       "Name: size, dtype: float64"
      ]
     },
     "execution_count": 14,
     "metadata": {},
     "output_type": "execute_result"
    }
   ],
   "source": [
    "# we use the median quantity as the average volume quantity\n",
    "xbt_trades_filtered = xbt_trades[xbt_trades['size'] > 25] # filter out small trades\n",
    "xbt_trades_filtered['size'].describe()"
   ]
  },
  {
   "cell_type": "markdown",
   "metadata": {},
   "source": [
    "So the average volume quantity is 50 percitile: 500"
   ]
  },
  {
   "cell_type": "markdown",
   "metadata": {},
   "source": [
    "### Estimate trade intensity"
   ]
  },
  {
   "cell_type": "code",
   "execution_count": 15,
   "metadata": {},
   "outputs": [],
   "source": [
    "# rounding util functions\n",
    "\n",
    "def round_up(x, tick):\n",
    "    remainder = x % tick\n",
    "    if remainder == 0:\n",
    "      return x\n",
    "    else:\n",
    "      return x + tick - remainder\n",
    "\n",
    "def round_down(x, tick):\n",
    "    remainder = x % tick\n",
    "    if remainder == 0:\n",
    "      return x\n",
    "    else:\n",
    "      return math.floor(x / tick) * tick"
   ]
  },
  {
   "cell_type": "code",
   "execution_count": 18,
   "metadata": {},
   "outputs": [
    {
     "name": "stdout",
     "output_type": "stream",
     "text": [
      "Processing timestamp:  2020-05-30 00:00:02.757106\n",
      "done with 1 samples\n"
     ]
    }
   ],
   "source": [
    "# TODO: this part is really slow, could be more efficient(pre-allocate memory) and use parallel processing to speed things up\n",
    "\n",
    "# sample time window in seconds\n",
    "dT = 10\n",
    "# number of samples\n",
    "n = 0\n",
    "# initial timestamp\n",
    "T0 = xbt_quotes.iloc[0, :].timestamp\n",
    "# end timestamp\n",
    "T_final = xbt_quotes.iloc[-1, :].timestamp\n",
    "# min tick size\n",
    "tick = 0.5\n",
    "# measured spread range\n",
    "r = 40 # 40*0.5=20\n",
    "\n",
    "T_start = T0\n",
    "T_end = T_start + pd.Timedelta(seconds=dT)\n",
    "\n",
    "ask_side_hits = np.array([])\n",
    "bid_side_hits = np.array([])\n",
    "\n",
    "while T_end < T_final:\n",
    "    \n",
    "    print(\"Processing timestamp: \", T_start)\n",
    "    # reference price S(t)\n",
    "    St = xbt_quotes[xbt_quotes.timestamp >= T_start].iloc[0, :].midPrice\n",
    "    # ask side\n",
    "    St_ask = round_down(St, tick)\n",
    "    # get marketable bids\n",
    "    criteria_1 = (xbt_trades_filtered.timestamp >= T_start) # timestamp later than T_start\n",
    "    criteria_2 = (xbt_trades_filtered.timestamp < T_end) # timestamp ealier than T_end\n",
    "    criteria_3 = (xbt_trades_filtered.side == 'Buy') # side is \"Buy\"\n",
    "    criteria_4 = (xbt_trades_filtered.price > St_ask) # price must be higher than St_ask\n",
    "    criteria_5 = (xbt_trades_filtered.price <= St_ask + (r * tick)) # price must be lower than the measured spread range\n",
    "    m_bids = xbt_trades_filtered[criteria_1 & criteria_2 & criteria_3 & criteria_4 & criteria_5]\n",
    "    \n",
    "    if len(m_bids.index) > 0:\n",
    "        # count ticks where marketable orders \"hit\"\n",
    "        hits = np.floor_divide(np.subtract(m_bids.price.unique(), St_ask), tick)\n",
    "        ask_side_hits = np.hstack([ask_side_hits, hits])\n",
    "    \n",
    "    # bid side\n",
    "    St_bid = round_up(St, tick)\n",
    "    # get marketable asks\n",
    "    criteria_1 = (xbt_trades_filtered.timestamp >= T_start) # timestamp later than T_start\n",
    "    criteria_2 = (xbt_trades_filtered.timestamp < T_end) # timestamp ealier than T_end\n",
    "    criteria_3 = (xbt_trades_filtered.side == 'Sell') # side is \"Sell\"\n",
    "    criteria_4 = (xbt_trades_filtered.price < St_bid) # price must be lower than St_bid\n",
    "    criteria_5 = (xbt_trades_filtered.price >= St_bid - (r * tick)) # price must be higher than the measured spread range\n",
    "    m_asks = xbt_trades_filtered[criteria_1 & criteria_2 & criteria_3 & criteria_4 & criteria_5]\n",
    "    \n",
    "    if len(m_asks.index) > 0:\n",
    "        # count ticks where marketable orders \"hit\"\n",
    "        hits = np.floor_divide(np.subtract(m_asks.price.unique(), St_bid), -tick)\n",
    "        bid_side_hits = np.hstack([bid_side_hits, hits])\n",
    "        \n",
    "    T_start = T_start + pd.Timedelta(seconds=dT)\n",
    "    T_end = T_end + pd.Timedelta(seconds=dT)\n",
    "    n = n + 1\n",
    "    # break\n",
    "\n",
    "print('done with {0} samples'.format(n))"
   ]
  },
  {
   "cell_type": "code",
   "execution_count": 183,
   "metadata": {},
   "outputs": [],
   "source": [
    "unique, counts = np.unique(ask_side_hits, return_counts=True)\n",
    "ask_side_hits_agg = np.asarray((unique, counts)).T\n",
    "unique, counts = np.unique(bid_side_hits, return_counts=True)\n",
    "bid_side_hits_agg = np.asarray((unique, counts)).T\n",
    "df_ask = pd.DataFrame(ask_side_hits_agg, columns=['tick', 'hits'])\n",
    "df_bid = pd.DataFrame(bid_side_hits_agg, columns=['tick', 'hits'])\n",
    "df_ask = df_ask.div([1, n])\n",
    "df_ask = df_ask.rename(columns = {'hits': 'intensity'})\n",
    "df_bid = df_bid.div([1, n])\n",
    "df_bid = df_bid.rename(columns = {'hits': 'intensity'})"
   ]
  },
  {
   "cell_type": "code",
   "execution_count": 184,
   "metadata": {},
   "outputs": [],
   "source": [
    "## you might want to save your hard calculated results\n",
    "# df_ask.to_csv('ask_side_intensity.csv')\n",
    "# df_bid.to_csv('bid_side_intensity.csv')"
   ]
  },
  {
   "cell_type": "code",
   "execution_count": 188,
   "metadata": {},
   "outputs": [
    {
     "data": {
      "text/plain": [
       "<matplotlib.axes._subplots.AxesSubplot at 0x7facf972ff10>"
      ]
     },
     "execution_count": 188,
     "metadata": {},
     "output_type": "execute_result"
    },
    {
     "data": {
      "image/png": "[encoded data removed]",
      "text/plain": [
       "<Figure size 432x288 with 1 Axes>"
      ]
     },
     "metadata": {
      "needs_background": "light"
     },
     "output_type": "display_data"
    }
   ],
   "source": [
    "df_ask.plot(x='tick', y=['intensity'])"
   ]
  },
  {
   "cell_type": "code",
   "execution_count": 189,
   "metadata": {},
   "outputs": [
    {
     "data": {
      "text/plain": [
       "<matplotlib.axes._subplots.AxesSubplot at 0x7facf99a4850>"
      ]
     },
     "execution_count": 189,
     "metadata": {},
     "output_type": "execute_result"
    },
    {
     "data": {
      "image/png": "[encoded data removed]",
      "text/plain": [
       "<Figure size 432x288 with 1 Axes>"
      ]
     },
     "metadata": {
      "needs_background": "light"
     },
     "output_type": "display_data"
    }
   ],
   "source": [
    "df_bid.plot(x='tick', y=['intensity'])"
   ]
  },
  {
   "cell_type": "code",
   "execution_count": 214,
   "metadata": {},
   "outputs": [
    {
     "name": "stdout",
     "output_type": "stream",
     "text": [
      "r:  0.8939027817302241\n",
      "k:  0.11580620684344611\n",
      "A:  0.10165680649202904\n"
     ]
    }
   ],
   "source": [
    "# estimate k using linear regression\n",
    "from sklearn.linear_model import LinearRegression\n",
    "X = df_ask.tick.to_numpy()[:, np.newaxis]\n",
    "y = np.log(df_ask.intensity)\n",
    "reg = LinearRegression().fit(X, y)\n",
    "print('r: ', reg.score(X, y))\n",
    "k_ask = - reg.coef_[0]\n",
    "A_ask = np.exp(reg.intercept_)\n",
    "print('k: ', k_ask)\n",
    "print('A: ', A_ask)"
   ]
  },
  {
   "cell_type": "code",
   "execution_count": 215,
   "metadata": {},
   "outputs": [
    {
     "name": "stdout",
     "output_type": "stream",
     "text": [
      "r:  0.9065124901679703\n",
      "k:  0.11605433591682768\n",
      "A:  0.09895956322824863\n"
     ]
    }
   ],
   "source": [
    "X = df_bid.tick.to_numpy()[:, np.newaxis]\n",
    "y = np.log(df_bid.intensity)\n",
    "reg = LinearRegression().fit(X, y)\n",
    "print('r: ', reg.score(X, y))\n",
    "k_bid = - reg.coef_[0]\n",
    "A_bid = np.exp(reg.intercept_)\n",
    "print('k: ', k_bid)\n",
    "print('A: ', A_bid)"
   ]
  },
  {
   "cell_type": "code",
   "execution_count": 221,
   "metadata": {},
   "outputs": [
    {
     "name": "stdout",
     "output_type": "stream",
     "text": [
      "k mean:  0.1159302713801369\n",
      "A mean:  0.10030818486013884\n"
     ]
    }
   ],
   "source": [
    "k = np.mean([k_bid, k_ask])\n",
    "A = np.mean([A_bid, A_ask])\n",
    "print('k mean: ', k)\n",
    "print('A mean: ', A)"
   ]
  },
  {
   "cell_type": "code",
   "execution_count": 233,
   "metadata": {},
   "outputs": [],
   "source": [
    "A*np.exp(-k * np.arange(40.))\n",
    "df_ask.loc[:, 'estimated'] = A*np.exp(-k * np.arange(40.))"
   ]
  },
  {
   "cell_type": "code",
   "execution_count": 234,
   "metadata": {},
   "outputs": [
    {
     "data": {
      "text/plain": [
       "<matplotlib.axes._subplots.AxesSubplot at 0x7facf5ea2590>"
      ]
     },
     "execution_count": 234,
     "metadata": {},
     "output_type": "execute_result"
    },
    {
     "data": {
      "image/png": "[encoded data removed]",
      "text/plain": [
       "<Figure size 432x288 with 1 Axes>"
      ]
     },
     "metadata": {
      "needs_background": "light"
     },
     "output_type": "display_data"
    }
   ],
   "source": [
    "df_ask.plot(x='tick', y=['intensity', 'estimated'])"
   ]
  },
  {
   "cell_type": "markdown",
   "metadata": {},
   "source": [
    "In this case lower tick intensity are significantly under-estimated"
   ]
  },
  {
   "cell_type": "markdown",
   "metadata": {},
   "source": [
    "## Parameter estimation: gamma"
   ]
  },
  {
   "cell_type": "markdown",
   "metadata": {},
   "source": [
    "Gamma is a parameter for market maker's risk aversion factor, there is no easy way which can be detailed in this notebook. It seems this parameter comes from 3 approaches:\n",
    "\n",
    "- empirical: in lots of literatures this value is 0.1\n",
    "- machine (reinforcement) learning: see this [repo](https://github.com/im1235/ISAC)\n",
    "\n",
    "Let me know if you have better findings :D"
   ]
  }
 ],
 "metadata": {
  "kernelspec": {
   "display_name": "Python 3.7.4 64-bit ('base': conda)",
   "language": "python",
   "name": "python37464bitbasecondacd4b4fc6792642bda8c3aa9b6518e71a"
  },
  "language_info": {
   "codemirror_mode": {
    "name": "ipython",
    "version": 3
   },
   "file_extension": ".py",
   "mimetype": "text/x-python",
   "name": "python",
   "nbconvert_exporter": "python",
   "pygments_lexer": "ipython3",
   "version": "3.7.4"
  }
 },
 "nbformat": 4,
 "nbformat_minor": 4
}
